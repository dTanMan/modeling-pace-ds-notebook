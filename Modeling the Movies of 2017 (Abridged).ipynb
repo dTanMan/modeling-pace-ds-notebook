{
 "cells": [
  {
   "cell_type": "markdown",
   "metadata": {
    "heading_collapsed": true
   },
   "source": [
    "# Introduction\n",
    "*What's this Python notebook all about?*"
   ]
  },
  {
   "cell_type": "markdown",
   "metadata": {
    "hidden": true
   },
   "source": [
    "`Hello world!`\n",
    "\n",
    "**This notebook is a more abridged version from the previous session's notebook.**\n",
    "\n",
    "It's meant to be a demonstration of using a Jupyter notebook, via Google Colab. It does so by:\n",
    "1. Reading in data that was previously scraped [in a previous notebook](https://bit.ly/paceds1notebook).\n",
    "2. Playing around with the data using `pandas`.\n",
    "3. Deploying a simple linear regression model."
   ]
  },
  {
   "cell_type": "markdown",
   "metadata": {
    "hidden": true
   },
   "source": [
    "---"
   ]
  },
  {
   "cell_type": "markdown",
   "metadata": {
    "heading_collapsed": true
   },
   "source": [
    "# `import` everything!\n",
    "*How to import all the necessary libraries (and install them if you haven't!)*"
   ]
  },
  {
   "cell_type": "markdown",
   "metadata": {
    "hidden": true
   },
   "source": [
    "**1. `Pandas` is one of the most iconic Python libraries for handling data.**\n",
    "\n",
    "Installation: `pip install pandas`"
   ]
  },
  {
   "cell_type": "code",
   "execution_count": null,
   "metadata": {
    "ExecuteTime": {
     "end_time": "2018-09-19T09:37:46.707486Z",
     "start_time": "2018-09-19T09:37:46.057796Z"
    },
    "collapsed": true,
    "hidden": true
   },
   "outputs": [],
   "source": [
    "import pandas as pd"
   ]
  },
  {
   "cell_type": "markdown",
   "metadata": {
    "hidden": true
   },
   "source": [
    "**2. `numpy` is another very iconic Python library.**\n",
    "\n",
    "This helps make Python more powerful in dealing with numbers and lists of numbers."
   ]
  },
  {
   "cell_type": "code",
   "execution_count": null,
   "metadata": {
    "ExecuteTime": {
     "end_time": "2018-09-19T09:37:46.768322Z",
     "start_time": "2018-09-19T09:37:46.763013Z"
    },
    "collapsed": true,
    "hidden": true
   },
   "outputs": [],
   "source": [
    "import numpy as np"
   ]
  },
  {
   "cell_type": "markdown",
   "metadata": {
    "hidden": true
   },
   "source": [
    "**3. `statsmodels` was chosen as the library of choice for modeling.**\n",
    "\n",
    "It's not the fastest regression tool, but the output is most helpful for our current usage. (Our dataset is also small enough, too!)"
   ]
  },
  {
   "cell_type": "code",
   "execution_count": null,
   "metadata": {
    "ExecuteTime": {
     "end_time": "2018-09-19T09:37:48.247160Z",
     "start_time": "2018-09-19T09:37:47.689231Z"
    },
    "hidden": true
   },
   "outputs": [],
   "source": [
    "import statsmodels.api as sm"
   ]
  },
  {
   "cell_type": "markdown",
   "metadata": {
    "collapsed": true,
    "hidden": true
   },
   "source": [
    "**4. Upload the file to this Colab notebook.**\n",
    "\n",
    "Since this notebook is technically on Google's server, we need to specificially upload our data set there. Download the data from [here](https://github.com/dTanMan/modeling-pace-ds-notebook/blob/master/movies_df.csv) and upload it to this notebook.\n",
    "\n",
    "(Un-comment these with cmd+/ or ctrl+/ if you're on Colab.)"
   ]
  },
  {
   "cell_type": "code",
   "execution_count": null,
   "metadata": {
    "ExecuteTime": {
     "end_time": "2018-09-19T09:24:56.067460Z",
     "start_time": "2018-09-19T09:24:56.059465Z"
    },
    "collapsed": true,
    "hidden": true
   },
   "outputs": [],
   "source": [
    "# from google.colab import files\n",
    "\n",
    "# uploaded = files.upload()\n",
    "\n",
    "# for fn in uploaded.keys():\n",
    "#   print('User uploaded file \"{name}\" with length {length} bytes'.format(\n",
    "#       name=fn, length=len(uploaded[fn])))"
   ]
  },
  {
   "cell_type": "markdown",
   "metadata": {
    "heading_collapsed": true
   },
   "source": [
    "# Get the data\n",
    "\n",
    "In Data Science 1, we scraped movies and data from IMDB and Rotten Tomatoes. Let's not repeat the process.\n",
    "\n",
    "([Here is the previous notebook.](https://bit.ly/paceds1notebook))"
   ]
  },
  {
   "cell_type": "markdown",
   "metadata": {
    "hidden": true
   },
   "source": [
    "**Read in the csv using the `read_csv` method of `pandas`.**\n",
    "\n",
    "If you're using Google Colab, you should've uploaded your file in the previous section before running this code. Otherwise, this will work normally if the csv is in the same folder as this notebook."
   ]
  },
  {
   "cell_type": "code",
   "execution_count": null,
   "metadata": {
    "ExecuteTime": {
     "end_time": "2018-09-19T09:37:59.819198Z",
     "start_time": "2018-09-19T09:37:59.700474Z"
    },
    "hidden": true
   },
   "outputs": [],
   "source": [
    "df = pd.read_csv('movies_df.csv')\n",
    "df"
   ]
  },
  {
   "cell_type": "markdown",
   "metadata": {
    "hidden": true
   },
   "source": [
    "**Check data quality**\n",
    "\n",
    "Let's see how much of our data is actually empty junk."
   ]
  },
  {
   "cell_type": "code",
   "execution_count": null,
   "metadata": {
    "ExecuteTime": {
     "end_time": "2018-09-19T09:38:02.798564Z",
     "start_time": "2018-09-19T09:38:02.766309Z"
    },
    "hidden": true,
    "scrolled": true
   },
   "outputs": [],
   "source": [
    "print('number of nulls per column\\n')\n",
    "for label in df:\n",
    "    print('{:<16} {:>3}'.format(label+':', len(df[df[label].isnull()])))"
   ]
  },
  {
   "cell_type": "markdown",
   "metadata": {
    "hidden": true
   },
   "source": [
    "**Removing the null rows**\n",
    "\n",
    "For simplicity, let's drop the rows that have null `box` values."
   ]
  },
  {
   "cell_type": "code",
   "execution_count": null,
   "metadata": {
    "ExecuteTime": {
     "end_time": "2018-09-19T09:38:04.864549Z",
     "start_time": "2018-09-19T09:38:04.766451Z"
    },
    "hidden": true
   },
   "outputs": [],
   "source": [
    "df = df[~pd.isnull(df['box'])]\n",
    "df"
   ]
  },
  {
   "cell_type": "markdown",
   "metadata": {
    "hidden": true
   },
   "source": [
    "**Filtering movies?**\n",
    "\n",
    "Maybe we should restrict our study to look only at more prominent movies -- in here, that means movies with at least $500k in revenue.\n",
    "\n",
    "Let's see if we'll have enough data if we do that."
   ]
  },
  {
   "cell_type": "code",
   "execution_count": null,
   "metadata": {
    "ExecuteTime": {
     "end_time": "2018-09-19T09:38:07.240570Z",
     "start_time": "2018-09-19T09:38:07.143653Z"
    },
    "hidden": true
   },
   "outputs": [],
   "source": [
    "df[df['box']>=500000]"
   ]
  },
  {
   "cell_type": "markdown",
   "metadata": {
    "ExecuteTime": {
     "end_time": "2018-09-19T09:37:25.750748Z",
     "start_time": "2018-09-19T09:37:25.742854Z"
    },
    "hidden": true
   },
   "source": [
    "And we do!\n",
    "\n",
    "---"
   ]
  },
  {
   "cell_type": "markdown",
   "metadata": {
    "heading_collapsed": true
   },
   "source": [
    "# Let's model!\n",
    "\n",
    "We'll do some linear regression with Python's `statsmodels` library.\n",
    "\n",
    "*Note: this is not the best model performance-wise; but for this tutorial, it will be the most helpful as results are already in a tabular form!*"
   ]
  },
  {
   "cell_type": "markdown",
   "metadata": {
    "hidden": true
   },
   "source": [
    "**Let's predict box office revenues!**\n",
    "\n",
    "We will base our prediction on:\n",
    "* tomatometer score\n",
    "* audience score\n",
    "* average tomatometer rating\n",
    "* average audience rating"
   ]
  },
  {
   "cell_type": "code",
   "execution_count": null,
   "metadata": {
    "ExecuteTime": {
     "end_time": "2018-09-19T09:38:09.374517Z",
     "start_time": "2018-09-19T09:38:09.289964Z"
    },
    "hidden": true,
    "scrolled": true
   },
   "outputs": [],
   "source": [
    "import statsmodels.api as sm\n",
    "import numpy as np\n",
    "\n",
    "df_model = df[df['box']>=500000]\n",
    "data_to_model = df_model[['tom', 'aud', 'tom_ave_rating', 'aud_ave_rating', 'tom_num_reviews', 'aud_num_ratings']]\n",
    "target_column = df_model[['box']]\n",
    "\n",
    "# Note the order of arguments\n",
    "model = sm.OLS(target_column, data_to_model).fit()\n",
    "\n",
    "# Print out the statistics. Summary2 gives it in non-exponential format.\n",
    "model.summary2()"
   ]
  },
  {
   "cell_type": "markdown",
   "metadata": {
    "hidden": true
   },
   "source": [
    "---"
   ]
  },
  {
   "cell_type": "markdown",
   "metadata": {
    "heading_collapsed": true
   },
   "source": [
    "# Conclusion\n",
    "\n",
    "And we're done! We hope you've learned a thing or two from this detailed notebook. :)"
   ]
  },
  {
   "cell_type": "markdown",
   "metadata": {
    "hidden": true
   },
   "source": [
    "Here we showed you how to deploy a simple model -- it is not the best of models in terms of performance, but it *is* the best in terms of expressivity.\n",
    "\n",
    "And just like that, you have made your first model!\n",
    "\n",
    "---\n",
    "\n",
    "Prepared for\n",
    "**Data Science 2**\n",
    "\n",
    "*(An internal lecture conducted for PLDT/Smart)*\n",
    "\n",
    "---\n",
    "\n",
    "by:\n",
    "\n",
    "\n",
    "Andre _\"dTanMan\"_ Tan  <attan@pldt.com.ph>\n",
    "\n",
    "---"
   ]
  }
 ],
 "metadata": {
  "kernelspec": {
   "display_name": "Python [conda root]",
   "language": "python",
   "name": "conda-root-py"
  },
  "language_info": {
   "codemirror_mode": {
    "name": "ipython",
    "version": 3
   },
   "file_extension": ".py",
   "mimetype": "text/x-python",
   "name": "python",
   "nbconvert_exporter": "python",
   "pygments_lexer": "ipython3",
   "version": "3.6.5"
  },
  "toc": {
   "nav_menu": {},
   "number_sections": false,
   "sideBar": true,
   "skip_h1_title": false,
   "toc_cell": false,
   "toc_position": {},
   "toc_section_display": "none",
   "toc_window_display": false
  },
  "varInspector": {
   "cols": {
    "lenName": 16,
    "lenType": 16,
    "lenVar": 40
   },
   "kernels_config": {
    "python": {
     "delete_cmd_postfix": "",
     "delete_cmd_prefix": "del ",
     "library": "var_list.py",
     "varRefreshCmd": "print(var_dic_list())"
    },
    "r": {
     "delete_cmd_postfix": ") ",
     "delete_cmd_prefix": "rm(",
     "library": "var_list.r",
     "varRefreshCmd": "cat(var_dic_list()) "
    }
   },
   "position": {
    "height": "523px",
    "left": "1070px",
    "right": "20px",
    "top": "120px",
    "width": "350px"
   },
   "types_to_exclude": [
    "module",
    "function",
    "builtin_function_or_method",
    "instance",
    "_Feature"
   ],
   "window_display": false
  }
 },
 "nbformat": 4,
 "nbformat_minor": 2
}
